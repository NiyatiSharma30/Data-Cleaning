{
 "cells": [
  {
   "cell_type": "markdown",
   "id": "5cdb5f68",
   "metadata": {
    "papermill": {
     "duration": 0.007542,
     "end_time": "2024-09-01T15:26:26.004741",
     "exception": false,
     "start_time": "2024-09-01T15:26:25.997199",
     "status": "completed"
    },
    "tags": []
   },
   "source": [
    "**This notebook is an exercise in the [Data Cleaning](https://www.kaggle.com/learn/data-cleaning) course.  You can reference the tutorial at [this link](https://www.kaggle.com/alexisbcook/character-encodings).**\n",
    "\n",
    "---\n"
   ]
  },
  {
   "cell_type": "markdown",
   "id": "53921b80",
   "metadata": {
    "papermill": {
     "duration": 0.006076,
     "end_time": "2024-09-01T15:26:26.017598",
     "exception": false,
     "start_time": "2024-09-01T15:26:26.011522",
     "status": "completed"
    },
    "tags": []
   },
   "source": [
    "In this exercise, you'll apply what you learned in the **Character encodings** tutorial.\n",
    "\n",
    "# Setup\n",
    "\n",
    "The questions below will give you feedback on your work. Run the following cell to set up the feedback system."
   ]
  },
  {
   "cell_type": "code",
   "execution_count": 1,
   "id": "e3c8664f",
   "metadata": {
    "execution": {
     "iopub.execute_input": "2024-09-01T15:26:26.032523Z",
     "iopub.status.busy": "2024-09-01T15:26:26.032006Z",
     "iopub.status.idle": "2024-09-01T15:26:26.647732Z",
     "shell.execute_reply": "2024-09-01T15:26:26.646266Z"
    },
    "papermill": {
     "duration": 0.626495,
     "end_time": "2024-09-01T15:26:26.650615",
     "exception": false,
     "start_time": "2024-09-01T15:26:26.024120",
     "status": "completed"
    },
    "tags": []
   },
   "outputs": [
    {
     "name": "stdout",
     "output_type": "stream",
     "text": [
      "Setup Complete\n"
     ]
    }
   ],
   "source": [
    "from learntools.core import binder\n",
    "binder.bind(globals())\n",
    "from learntools.data_cleaning.ex4 import *\n",
    "print(\"Setup Complete\")"
   ]
  },
  {
   "cell_type": "markdown",
   "id": "f82f718d",
   "metadata": {
    "papermill": {
     "duration": 0.006615,
     "end_time": "2024-09-01T15:26:26.665955",
     "exception": false,
     "start_time": "2024-09-01T15:26:26.659340",
     "status": "completed"
    },
    "tags": []
   },
   "source": [
    "# Get our environment set up\n",
    "\n",
    "The first thing we'll need to do is load in the libraries we'll be using."
   ]
  },
  {
   "cell_type": "code",
   "execution_count": 2,
   "id": "9304bf3f",
   "metadata": {
    "execution": {
     "iopub.execute_input": "2024-09-01T15:26:26.681443Z",
     "iopub.status.busy": "2024-09-01T15:26:26.680961Z",
     "iopub.status.idle": "2024-09-01T15:26:26.687424Z",
     "shell.execute_reply": "2024-09-01T15:26:26.686029Z"
    },
    "papermill": {
     "duration": 0.017512,
     "end_time": "2024-09-01T15:26:26.690430",
     "exception": false,
     "start_time": "2024-09-01T15:26:26.672918",
     "status": "completed"
    },
    "tags": []
   },
   "outputs": [],
   "source": [
    "# modules we'll use\n",
    "import pandas as pd\n",
    "import numpy as np\n",
    "\n",
    "# helpful character encoding module\n",
    "import charset_normalizer\n",
    "\n",
    "# set seed for reproducibility\n",
    "np.random.seed(0)"
   ]
  },
  {
   "cell_type": "markdown",
   "id": "f6ef499f",
   "metadata": {
    "papermill": {
     "duration": 0.006678,
     "end_time": "2024-09-01T15:26:26.703714",
     "exception": false,
     "start_time": "2024-09-01T15:26:26.697036",
     "status": "completed"
    },
    "tags": []
   },
   "source": [
    "# 1) What are encodings?\n",
    "\n",
    "You're working with a dataset composed of bytes.  Run the code cell below to print a sample entry."
   ]
  },
  {
   "cell_type": "code",
   "execution_count": 3,
   "id": "1292f625",
   "metadata": {
    "execution": {
     "iopub.execute_input": "2024-09-01T15:26:26.718461Z",
     "iopub.status.busy": "2024-09-01T15:26:26.718006Z",
     "iopub.status.idle": "2024-09-01T15:26:26.724426Z",
     "shell.execute_reply": "2024-09-01T15:26:26.723145Z"
    },
    "papermill": {
     "duration": 0.017622,
     "end_time": "2024-09-01T15:26:26.727758",
     "exception": false,
     "start_time": "2024-09-01T15:26:26.710136",
     "status": "completed"
    },
    "tags": []
   },
   "outputs": [
    {
     "name": "stdout",
     "output_type": "stream",
     "text": [
      "b'\\xa7A\\xa6n'\n",
      "data type: <class 'bytes'>\n"
     ]
    }
   ],
   "source": [
    "sample_entry = b'\\xa7A\\xa6n'\n",
    "print(sample_entry)\n",
    "print('data type:', type(sample_entry))"
   ]
  },
  {
   "cell_type": "markdown",
   "id": "79febbc2",
   "metadata": {
    "papermill": {
     "duration": 0.006355,
     "end_time": "2024-09-01T15:26:26.740833",
     "exception": false,
     "start_time": "2024-09-01T15:26:26.734478",
     "status": "completed"
    },
    "tags": []
   },
   "source": [
    "You notice that it doesn't use the standard UTF-8 encoding. \n",
    "\n",
    "Use the next code cell to create a variable `new_entry` that changes the encoding from `\"big5-tw\"` to `\"utf-8\"`.  `new_entry` should have the bytes datatype."
   ]
  },
  {
   "cell_type": "code",
   "execution_count": 4,
   "id": "78979765",
   "metadata": {
    "execution": {
     "iopub.execute_input": "2024-09-01T15:26:26.756050Z",
     "iopub.status.busy": "2024-09-01T15:26:26.755623Z",
     "iopub.status.idle": "2024-09-01T15:26:26.768017Z",
     "shell.execute_reply": "2024-09-01T15:26:26.766630Z"
    },
    "papermill": {
     "duration": 0.023689,
     "end_time": "2024-09-01T15:26:26.771055",
     "exception": false,
     "start_time": "2024-09-01T15:26:26.747366",
     "status": "completed"
    },
    "tags": []
   },
   "outputs": [
    {
     "data": {
      "application/javascript": [
       "parent.postMessage({\"jupyterEvent\": \"custom.exercise_interaction\", \"data\": {\"outcomeType\": 1, \"valueTowardsCompletion\": 0.3333333333333333, \"interactionType\": 1, \"questionType\": 1, \"questionId\": \"1_EncodingsIntro\", \"learnToolsVersion\": \"0.3.4\", \"failureMessage\": \"\", \"exceptionClass\": \"\", \"trace\": \"\"}}, \"*\")"
      ],
      "text/plain": [
       "<IPython.core.display.Javascript object>"
      ]
     },
     "metadata": {},
     "output_type": "display_data"
    },
    {
     "data": {
      "text/markdown": [
       "<span style=\"color:#33cc33\">Correct</span>"
      ],
      "text/plain": [
       "Correct"
      ]
     },
     "metadata": {},
     "output_type": "display_data"
    }
   ],
   "source": [
    "before= sample_entry.decode(\"big5-tw\")\n",
    "new_entry = before.encode()\n",
    "\n",
    "# Check your answer\n",
    "q1.check()"
   ]
  },
  {
   "cell_type": "code",
   "execution_count": 5,
   "id": "66b284e3",
   "metadata": {
    "execution": {
     "iopub.execute_input": "2024-09-01T15:26:26.787664Z",
     "iopub.status.busy": "2024-09-01T15:26:26.787112Z",
     "iopub.status.idle": "2024-09-01T15:26:26.797829Z",
     "shell.execute_reply": "2024-09-01T15:26:26.796701Z"
    },
    "papermill": {
     "duration": 0.022857,
     "end_time": "2024-09-01T15:26:26.800934",
     "exception": false,
     "start_time": "2024-09-01T15:26:26.778077",
     "status": "completed"
    },
    "tags": []
   },
   "outputs": [
    {
     "data": {
      "application/javascript": [
       "parent.postMessage({\"jupyterEvent\": \"custom.exercise_interaction\", \"data\": {\"interactionType\": 3, \"questionType\": 1, \"questionId\": \"1_EncodingsIntro\", \"learnToolsVersion\": \"0.3.4\", \"valueTowardsCompletion\": 0.0, \"failureMessage\": \"\", \"exceptionClass\": \"\", \"trace\": \"\", \"outcomeType\": 4}}, \"*\")"
      ],
      "text/plain": [
       "<IPython.core.display.Javascript object>"
      ]
     },
     "metadata": {},
     "output_type": "display_data"
    },
    {
     "data": {
      "text/markdown": [
       "<span style=\"color:#33cc99\">Solution:</span> \n",
       "```python\n",
       "before = sample_entry.decode(\"big5-tw\")\n",
       "new_entry = before.encode()\n",
       "\n",
       "```"
      ],
      "text/plain": [
       "Solution: \n",
       "```python\n",
       "before = sample_entry.decode(\"big5-tw\")\n",
       "new_entry = before.encode()\n",
       "\n",
       "```"
      ]
     },
     "metadata": {},
     "output_type": "display_data"
    }
   ],
   "source": [
    "# Lines below will give you a hint or solution code\n",
    "#q1.hint()\n",
    "q1.solution()"
   ]
  },
  {
   "cell_type": "markdown",
   "id": "adc590c7",
   "metadata": {
    "papermill": {
     "duration": 0.008169,
     "end_time": "2024-09-01T15:26:26.816602",
     "exception": false,
     "start_time": "2024-09-01T15:26:26.808433",
     "status": "completed"
    },
    "tags": []
   },
   "source": [
    "# 2) Reading in files with encoding problems\n",
    "\n",
    "Use the code cell below to read in this file at path `\"../input/fatal-police-shootings-in-the-us/PoliceKillingsUS.csv\"`.  \n",
    "\n",
    "Figure out what the correct encoding should be and read in the file to a DataFrame `police_killings`."
   ]
  },
  {
   "cell_type": "code",
   "execution_count": 6,
   "id": "f9da65e5",
   "metadata": {
    "execution": {
     "iopub.execute_input": "2024-09-01T15:26:26.833124Z",
     "iopub.status.busy": "2024-09-01T15:26:26.832659Z",
     "iopub.status.idle": "2024-09-01T15:26:26.865768Z",
     "shell.execute_reply": "2024-09-01T15:26:26.864427Z"
    },
    "papermill": {
     "duration": 0.044968,
     "end_time": "2024-09-01T15:26:26.868993",
     "exception": false,
     "start_time": "2024-09-01T15:26:26.824025",
     "status": "completed"
    },
    "tags": []
   },
   "outputs": [
    {
     "data": {
      "application/javascript": [
       "parent.postMessage({\"jupyterEvent\": \"custom.exercise_interaction\", \"data\": {\"outcomeType\": 1, \"valueTowardsCompletion\": 0.3333333333333333, \"interactionType\": 1, \"questionType\": 1, \"questionId\": \"2_ReadIn\", \"learnToolsVersion\": \"0.3.4\", \"failureMessage\": \"\", \"exceptionClass\": \"\", \"trace\": \"\"}}, \"*\")"
      ],
      "text/plain": [
       "<IPython.core.display.Javascript object>"
      ]
     },
     "metadata": {},
     "output_type": "display_data"
    },
    {
     "data": {
      "text/markdown": [
       "<span style=\"color:#33cc33\">Correct</span>"
      ],
      "text/plain": [
       "Correct"
      ]
     },
     "metadata": {},
     "output_type": "display_data"
    }
   ],
   "source": [
    "# TODO: Load in the DataFrame correctly.\n",
    "police_killings = pd.read_csv(\"../input/fatal-police-shootings-in-the-us/PoliceKillingsUS.csv\", encoding='Windows-1252')\n",
    "\n",
    "# Check your answer\n",
    "q2.check()"
   ]
  },
  {
   "cell_type": "markdown",
   "id": "7231645b",
   "metadata": {
    "papermill": {
     "duration": 0.008364,
     "end_time": "2024-09-01T15:26:26.886201",
     "exception": false,
     "start_time": "2024-09-01T15:26:26.877837",
     "status": "completed"
    },
    "tags": []
   },
   "source": [
    "Feel free to use any additional code cells for supplemental work.  To get credit for finishing this question, you'll need to run `q2.check()` and get a result of **Correct**."
   ]
  },
  {
   "cell_type": "code",
   "execution_count": 7,
   "id": "844ab9bd",
   "metadata": {
    "execution": {
     "iopub.execute_input": "2024-09-01T15:26:26.907803Z",
     "iopub.status.busy": "2024-09-01T15:26:26.907100Z",
     "iopub.status.idle": "2024-09-01T15:26:26.913771Z",
     "shell.execute_reply": "2024-09-01T15:26:26.912271Z"
    },
    "papermill": {
     "duration": 0.021006,
     "end_time": "2024-09-01T15:26:26.916990",
     "exception": false,
     "start_time": "2024-09-01T15:26:26.895984",
     "status": "completed"
    },
    "tags": []
   },
   "outputs": [],
   "source": [
    "# (Optional) Use this code cell for any additional work."
   ]
  },
  {
   "cell_type": "code",
   "execution_count": 8,
   "id": "2862594e",
   "metadata": {
    "execution": {
     "iopub.execute_input": "2024-09-01T15:26:26.935872Z",
     "iopub.status.busy": "2024-09-01T15:26:26.935338Z",
     "iopub.status.idle": "2024-09-01T15:26:26.945746Z",
     "shell.execute_reply": "2024-09-01T15:26:26.944374Z"
    },
    "papermill": {
     "duration": 0.023132,
     "end_time": "2024-09-01T15:26:26.948829",
     "exception": false,
     "start_time": "2024-09-01T15:26:26.925697",
     "status": "completed"
    },
    "tags": []
   },
   "outputs": [
    {
     "data": {
      "application/javascript": [
       "parent.postMessage({\"jupyterEvent\": \"custom.exercise_interaction\", \"data\": {\"interactionType\": 3, \"questionType\": 1, \"questionId\": \"2_ReadIn\", \"learnToolsVersion\": \"0.3.4\", \"valueTowardsCompletion\": 0.0, \"failureMessage\": \"\", \"exceptionClass\": \"\", \"trace\": \"\", \"outcomeType\": 4}}, \"*\")"
      ],
      "text/plain": [
       "<IPython.core.display.Javascript object>"
      ]
     },
     "metadata": {},
     "output_type": "display_data"
    },
    {
     "data": {
      "text/markdown": [
       "<span style=\"color:#33cc99\">Solution:</span> \n",
       "```python\n",
       "police_killings = pd.read_csv(\"../input/fatal-police-shootings-in-the-us/PoliceKillingsUS.csv\", encoding='Windows-1252')\n",
       "\n",
       "```"
      ],
      "text/plain": [
       "Solution: \n",
       "```python\n",
       "police_killings = pd.read_csv(\"../input/fatal-police-shootings-in-the-us/PoliceKillingsUS.csv\", encoding='Windows-1252')\n",
       "\n",
       "```"
      ]
     },
     "metadata": {},
     "output_type": "display_data"
    }
   ],
   "source": [
    "# Lines below will give you a hint or solution code\n",
    "#q2.hint()\n",
    "q2.solution()"
   ]
  },
  {
   "cell_type": "markdown",
   "id": "c92f40a7",
   "metadata": {
    "papermill": {
     "duration": 0.008553,
     "end_time": "2024-09-01T15:26:26.965978",
     "exception": false,
     "start_time": "2024-09-01T15:26:26.957425",
     "status": "completed"
    },
    "tags": []
   },
   "source": [
    "# 3) Saving your files with UTF-8 encoding\n",
    "\n",
    "Save a version of the police killings dataset to CSV with UTF-8 encoding.  Your answer will be marked correct after saving this file.  \n",
    "\n",
    "Note: When using the `to_csv()` method, supply only the name of the file (e.g., `\"my_file.csv\"`).  This saves the file at the filepath `\"/kaggle/working/my_file.csv\"`."
   ]
  },
  {
   "cell_type": "code",
   "execution_count": 9,
   "id": "c3bad9c0",
   "metadata": {
    "execution": {
     "iopub.execute_input": "2024-09-01T15:26:26.983982Z",
     "iopub.status.busy": "2024-09-01T15:26:26.983541Z",
     "iopub.status.idle": "2024-09-01T15:26:27.041145Z",
     "shell.execute_reply": "2024-09-01T15:26:27.039935Z"
    },
    "papermill": {
     "duration": 0.069572,
     "end_time": "2024-09-01T15:26:27.043658",
     "exception": false,
     "start_time": "2024-09-01T15:26:26.974086",
     "status": "completed"
    },
    "tags": []
   },
   "outputs": [
    {
     "data": {
      "application/javascript": [
       "parent.postMessage({\"jupyterEvent\": \"custom.exercise_interaction\", \"data\": {\"outcomeType\": 1, \"valueTowardsCompletion\": 0.3333333333333333, \"interactionType\": 1, \"questionType\": 2, \"questionId\": \"3_SaveCSV\", \"learnToolsVersion\": \"0.3.4\", \"failureMessage\": \"\", \"exceptionClass\": \"\", \"trace\": \"\"}}, \"*\")"
      ],
      "text/plain": [
       "<IPython.core.display.Javascript object>"
      ]
     },
     "metadata": {},
     "output_type": "display_data"
    },
    {
     "data": {
      "text/markdown": [
       "<span style=\"color:#33cc33\">Correct</span>"
      ],
      "text/plain": [
       "Correct"
      ]
     },
     "metadata": {},
     "output_type": "display_data"
    }
   ],
   "source": [
    "# TODO: Save the police killings dataset to CSV\n",
    "police_killings.to_csv(\"my_file.csv\")\n",
    "\n",
    "# Check your answer\n",
    "q3.check()"
   ]
  },
  {
   "cell_type": "code",
   "execution_count": 10,
   "id": "380a2283",
   "metadata": {
    "execution": {
     "iopub.execute_input": "2024-09-01T15:26:27.062699Z",
     "iopub.status.busy": "2024-09-01T15:26:27.062291Z",
     "iopub.status.idle": "2024-09-01T15:26:27.073775Z",
     "shell.execute_reply": "2024-09-01T15:26:27.072347Z"
    },
    "papermill": {
     "duration": 0.025475,
     "end_time": "2024-09-01T15:26:27.077499",
     "exception": false,
     "start_time": "2024-09-01T15:26:27.052024",
     "status": "completed"
    },
    "tags": []
   },
   "outputs": [
    {
     "data": {
      "application/javascript": [
       "parent.postMessage({\"jupyterEvent\": \"custom.exercise_interaction\", \"data\": {\"interactionType\": 3, \"questionType\": 2, \"questionId\": \"3_SaveCSV\", \"learnToolsVersion\": \"0.3.4\", \"valueTowardsCompletion\": 0.0, \"failureMessage\": \"\", \"exceptionClass\": \"\", \"trace\": \"\", \"outcomeType\": 4}}, \"*\")"
      ],
      "text/plain": [
       "<IPython.core.display.Javascript object>"
      ]
     },
     "metadata": {},
     "output_type": "display_data"
    },
    {
     "data": {
      "text/markdown": [
       "<span style=\"color:#33cc99\">Solution:</span> \n",
       "```python\n",
       "\n",
       "police_killings.to_csv(\"my_file.csv\")\n",
       "\n",
       "```"
      ],
      "text/plain": [
       "Solution: \n",
       "```python\n",
       "\n",
       "police_killings.to_csv(\"my_file.csv\")\n",
       "\n",
       "```"
      ]
     },
     "metadata": {},
     "output_type": "display_data"
    }
   ],
   "source": [
    "# Lines below will give you a hint or solution code\n",
    "#q3.hint()\n",
    "q3.solution()"
   ]
  },
  {
   "cell_type": "markdown",
   "id": "e9de2e74",
   "metadata": {
    "papermill": {
     "duration": 0.008789,
     "end_time": "2024-09-01T15:26:27.095680",
     "exception": false,
     "start_time": "2024-09-01T15:26:27.086891",
     "status": "completed"
    },
    "tags": []
   },
   "source": [
    "# (Optional) More practice\n",
    "\n",
    "Check out [this dataset of files in different character encodings](https://www.kaggle.com/rtatman/character-encoding-examples). Can you read in all the files with their original encodings and them save them out as UTF-8 files?\n",
    "\n",
    "If you have a file that's in UTF-8 but has just a couple of weird-looking characters in it, you can try out the [ftfy module](https://ftfy.readthedocs.io/en/latest/#) and see if it helps. \n",
    "\n",
    "# Keep going\n",
    "\n",
    "In the final lesson, learn how to [**clean up inconsistent text entries**](https://www.kaggle.com/alexisbcook/inconsistent-data-entry) in your dataset."
   ]
  },
  {
   "cell_type": "markdown",
   "id": "b661c730",
   "metadata": {
    "papermill": {
     "duration": 0.009288,
     "end_time": "2024-09-01T15:26:27.114178",
     "exception": false,
     "start_time": "2024-09-01T15:26:27.104890",
     "status": "completed"
    },
    "tags": []
   },
   "source": [
    "---\n",
    "\n",
    "\n",
    "\n",
    "\n",
    "*Have questions or comments? Visit the [course discussion forum](https://www.kaggle.com/learn/data-cleaning/discussion) to chat with other learners.*"
   ]
  }
 ],
 "metadata": {
  "kaggle": {
   "accelerator": "none",
   "dataSources": [
    {
     "datasetId": 2647,
     "sourceId": 4395,
     "sourceType": "datasetVersion"
    }
   ],
   "isGpuEnabled": false,
   "isInternetEnabled": false,
   "language": "python",
   "sourceType": "notebook"
  },
  "kernelspec": {
   "display_name": "Python 3",
   "language": "python",
   "name": "python3"
  },
  "language_info": {
   "codemirror_mode": {
    "name": "ipython",
    "version": 3
   },
   "file_extension": ".py",
   "mimetype": "text/x-python",
   "name": "python",
   "nbconvert_exporter": "python",
   "pygments_lexer": "ipython3",
   "version": "3.10.14"
  },
  "papermill": {
   "default_parameters": {},
   "duration": 5.088119,
   "end_time": "2024-09-01T15:26:27.647519",
   "environment_variables": {},
   "exception": null,
   "input_path": "__notebook__.ipynb",
   "output_path": "__notebook__.ipynb",
   "parameters": {},
   "start_time": "2024-09-01T15:26:22.559400",
   "version": "2.6.0"
  }
 },
 "nbformat": 4,
 "nbformat_minor": 5
}
